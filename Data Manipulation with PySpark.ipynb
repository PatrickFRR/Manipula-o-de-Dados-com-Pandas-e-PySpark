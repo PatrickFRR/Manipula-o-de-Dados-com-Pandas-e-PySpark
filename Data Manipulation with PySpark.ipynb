{
 "cells": [
  {
   "cell_type": "code",
   "execution_count": 3,
   "id": "665cbaae",
   "metadata": {},
   "outputs": [
    {
     "name": "stdout",
     "output_type": "stream",
     "text": [
      "+---------------+--------+\n",
      "|AnosExperiencia| Salario|\n",
      "+---------------+--------+\n",
      "|            1.1|39343.00|\n",
      "|            1.3|46205.00|\n",
      "|            1.5|37731.00|\n",
      "|            2.0|43525.00|\n",
      "|            2.2|39891.00|\n",
      "|            2.9|56642.00|\n",
      "|            3.0|60150.00|\n",
      "|            3.2|54445.00|\n",
      "|            3.2|64445.00|\n",
      "|            3.7|57189.00|\n",
      "|            3.9|63218.00|\n",
      "|            4.0|55794.00|\n",
      "|            4.0|56957.00|\n",
      "|            4.1|57081.00|\n",
      "|            4.5|61111.00|\n",
      "|            4.9|67938.00|\n",
      "|            5.1|66029.00|\n",
      "|            5.3|83088.00|\n",
      "|            5.9|81363.00|\n",
      "|            6.0|93940.00|\n",
      "+---------------+--------+\n",
      "only showing top 20 rows\n",
      "\n"
     ]
    }
   ],
   "source": [
    "import findspark\n",
    "findspark.init()\n",
    "\n",
    "from pyspark.sql import SparkSession\n",
    "from pyspark.sql import Row\n",
    "from pyspark.sql.types import *\n",
    "\n",
    "spark = SparkSession.builder \\\n",
    "    .master(\"local\") \\\n",
    "    .appName(\"Aula Introdutória PySpark\") \\\n",
    "    .config(\"spark.executor.memory\", \"1gb\") \\\n",
    "    .getOrCreate()\n",
    "\n",
    "sc = spark.sparkContext\n",
    "\n",
    "rdd = sc.textFile('Salary_Data.csv')\n",
    "rdd = rdd.map(lambda line: line.split(\",\"))\n",
    "\n",
    "df = rdd.map(lambda line: Row(AnosExperiencia=line[0], Salario=line[1])).toDF()\n",
    "df.show()"
   ]
  },
  {
   "cell_type": "code",
   "execution_count": 15,
   "id": "dd8da276",
   "metadata": {},
   "outputs": [
    {
     "name": "stdout",
     "output_type": "stream",
     "text": [
      "Dados de entrada do DataFrame: \n",
      "root\n",
      " |-- AnosExperiencia: string (nullable = true)\n",
      " |-- Salario: string (nullable = true)\n",
      "\n",
      "Dados de saída do DataFrame: \n",
      "root\n",
      " |-- AnosExperiencia: float (nullable = true)\n",
      " |-- Salario: float (nullable = true)\n",
      "\n"
     ]
    }
   ],
   "source": [
    "#Aleterando tipo de dado\n",
    "import findspark\n",
    "findspark.init()\n",
    "\n",
    "from pyspark.sql import SparkSession\n",
    "from pyspark.sql import Row\n",
    "from pyspark.sql.types import *\n",
    "\n",
    "spark = SparkSession.builder \\\n",
    "    .master(\"local\") \\\n",
    "    .appName(\"Aula Introdutória PySpark\") \\\n",
    "    .config(\"spark.executor.memory\", \"1gb\") \\\n",
    "    .getOrCreate()\n",
    "\n",
    "sc = spark.sparkContext\n",
    "\n",
    "rdd = sc.textFile('Salary_Data.csv')\n",
    "rdd = rdd.map(lambda line: line.split(\",\"))\n",
    "\n",
    "df = rdd.map(lambda line: Row(AnosExperiencia=line[0], Salario=line[1])).toDF()\n",
    "print(\"Dados de entrada do DataFrame: \")\n",
    "df.printSchema()\n",
    "\n",
    "def converterColuna(dataframe, nomes, novoTipo):\n",
    "    for nome in nomes:\n",
    "        dataframe = dataframe.withColumn(nome, dataframe[nome].cast(novoTipo))\n",
    "    return dataframe\n",
    "\n",
    "colunas = ['AnosExperiencia', 'Salario']\n",
    "\n",
    "df = converterColuna(df, colunas, FloatType())\n",
    "\n",
    "#df.show()\n",
    "print(\"Dados de saída do DataFrame: \")\n",
    "df.printSchema()"
   ]
  },
  {
   "cell_type": "code",
   "execution_count": null,
   "id": "05fddce4",
   "metadata": {},
   "outputs": [],
   "source": []
  }
 ],
 "metadata": {
  "kernelspec": {
   "display_name": "Python 3",
   "language": "python",
   "name": "python3"
  },
  "language_info": {
   "codemirror_mode": {
    "name": "ipython",
    "version": 3
   },
   "file_extension": ".py",
   "mimetype": "text/x-python",
   "name": "python",
   "nbconvert_exporter": "python",
   "pygments_lexer": "ipython3",
   "version": "3.8.8"
  }
 },
 "nbformat": 4,
 "nbformat_minor": 5
}
